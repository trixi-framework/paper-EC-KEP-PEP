{
 "cells": [
  {
   "cell_type": "code",
   "execution_count": null,
   "metadata": {},
   "outputs": [],
   "source": [
    "include(\"setup.jl\")\n",
    "\n",
    "using Trixi\n",
    "\n",
    "function plot_eigenvalues(λ)\n",
    "    fig, ax = plt.subplots(1, 1)\n",
    "    ax.set_prop_cycle(marker_cycler)\n",
    "    plt.plot(real.(λ), imag.(λ))\n",
    "    plt.xlabel(L\"\\mathrm{Re}(\\lambda)\")\n",
    "    plt.ylabel(L\"\\mathrm{Im}(\\lambda)\")\n",
    "    \n",
    "    fig\n",
    "end"
   ]
  },
  {
   "cell_type": "markdown",
   "metadata": {},
   "source": [
    "# Using a numerical flux with the logarithmic mean in the density results in negative densities\n",
    "\n",
    "You need to wait some time for the first run because of compilation time."
   ]
  },
  {
   "cell_type": "code",
   "execution_count": null,
   "metadata": {},
   "outputs": [],
   "source": [
    "# numerical_flux = flux_central\n",
    "# numerical_flux = flux_shima_etal\n",
    "numerical_flux = flux_ranocha\n",
    "\n",
    "Trixi.run(\"parameters_density_wave.toml\", \n",
    "            volume_integral_type=\"split_form\", cfl=0.05,\n",
    "            surface_flux=numerical_flux, volume_flux=numerical_flux)"
   ]
  },
  {
   "cell_type": "code",
   "execution_count": null,
   "metadata": {},
   "outputs": [],
   "source": []
  },
  {
   "cell_type": "markdown",
   "metadata": {},
   "source": [
    "# The spectrum contains eigenvalues with positive real part for volume fluxes different from the central flux"
   ]
  },
  {
   "cell_type": "code",
   "execution_count": null,
   "metadata": {},
   "outputs": [],
   "source": [
    "numerical_flux = flux_central\n",
    "J_central = Trixi.compute_jacobian_dg(\"parameters_density_wave.toml\", \n",
    "                    volume_integral_type=\"split_form\", cfl=0.05,\n",
    "                    surface_flux=numerical_flux, volume_flux=numerical_flux)\n",
    "λ_central = eigvals(J_central)\n",
    "\n",
    "numerical_flux = flux_shima_etal\n",
    "J_shima_etal = Trixi.compute_jacobian_dg(\"parameters_density_wave.toml\", \n",
    "                                volume_integral_type=\"split_form\", cfl=0.05,\n",
    "                                surface_flux=numerical_flux, volume_flux=numerical_flux)\n",
    "λ_shima_etal = eigvals(J_shima_etal)\n",
    "\n",
    "numerical_flux = flux_ranocha\n",
    "J_ranocha = Trixi.compute_jacobian_dg(\"parameters_density_wave.toml\", \n",
    "                                volume_integral_type=\"split_form\", cfl=0.05,\n",
    "                                surface_flux=numerical_flux, volume_flux=numerical_flux)\n",
    "λ_ranocha = eigvals(J_ranocha)\n"
   ]
  },
  {
   "cell_type": "code",
   "execution_count": null,
   "metadata": {},
   "outputs": [],
   "source": [
    "function modify!(fig)\n",
    "    fig.axes[1].set_xlim(-2, 2)\n",
    "    fig.axes[1].set_ylim(-1000, 1000)\n",
    "    fig\n",
    "end\n",
    "\n",
    "fig_central = plot_eigenvalues(λ_central) |> modify!\n",
    "fig_central.savefig(joinpath(dirname(@__DIR__), \"figures\", \"spectrum_Euler_central.pdf\"), bbox_inches=\"tight\")\n",
    "fig_shima_etal = plot_eigenvalues(λ_shima_etal) |> modify!\n",
    "fig_shima_etal.savefig(joinpath(dirname(@__DIR__), \"figures\", \"spectrum_Euler_shima_etal.pdf\"), bbox_inches=\"tight\")\n",
    "fig_ranocha = plot_eigenvalues(λ_ranocha) |> modify!\n",
    "fig_ranocha.savefig(joinpath(dirname(@__DIR__), \"figures\", \"spectrum_Euler_ranocha.pdf\"), bbox_inches=\"tight\")"
   ]
  },
  {
   "cell_type": "code",
   "execution_count": null,
   "metadata": {},
   "outputs": [],
   "source": []
  },
  {
   "cell_type": "markdown",
   "metadata": {},
   "source": [
    "# Fluctuation simulation without dissipation"
   ]
  },
  {
   "cell_type": "code",
   "execution_count": null,
   "metadata": {},
   "outputs": [],
   "source": [
    "kwargs = (volume_integral_type=\"split_form\", cfl=0.05,\n",
    "            surface_flux=flux_shima_etal, volume_flux=flux_shima_etal)\n",
    "J_shima_etal = Trixi.compute_jacobian_dg(\"parameters_density_wave.toml\"; kwargs...)\n",
    "λv_shima_etal = eigen(J_shima_etal)\n",
    "\n",
    "\n",
    "idx = findlast(λ -> real(λ) > 0 && abs2(imag(λ)) < 1.0e-10, λv_shima_etal.values)\n",
    "\n",
    "@show λv_shima_etal.values[idx]\n",
    "@show extrema(imag, λv_shima_etal.vectors[:, idx])\n",
    "\n",
    "u = real.(λv_shima_etal.vectors[:, idx])\n",
    "u = 1.0e-3 / maximum(abs, u) * u\n",
    "u_fluctuation = reshape(u, 4, 6, 6, 16) # 4 variables, polydeg=5, polydeg=5, nelements=16\n",
    "\n",
    "mesh, dg, time_parameters, time_integration_function = Trixi.init_simulation()\n",
    "u0_baseline = copy(dg.elements.u)\n",
    "Trixi.rhs!(dg, 0.0)\n",
    "ut_baseline = copy(dg.elements.u_t);"
   ]
  },
  {
   "cell_type": "code",
   "execution_count": null,
   "metadata": {},
   "outputs": [],
   "source": [
    "let ut_baseline=ut_baseline\n",
    "    function source_terms_fluctuations(ut, u, x, element_id, t, n_nodes, equation::CompressibleEulerEquations2D)\n",
    "      for j in 1:n_nodes, i in 1:n_nodes, v in 1:4\n",
    "          ut[v, i, j, element_id] -= ut_baseline[v, i, j, element_id]\n",
    "      end\n",
    "\n",
    "      return nothing\n",
    "    end\n",
    "    \n",
    "    function initial_conditions_fluctuations(x, t, equation::CompressibleEulerEquations2D)\n",
    "      v1 = 0.1\n",
    "      v2 = 0.2\n",
    "#       rho = 1 + 0.98 * sinpi(2 * (x[1] + x[2] - t * (v1 + v2)))\n",
    "      rho = 1 + 0.98 * sinpi(2 * (x[1] + x[2]))\n",
    "      rho_v1 = rho * v1\n",
    "      rho_v2 = rho * v2\n",
    "      p = 20\n",
    "      rho_e = p / (equation.gamma - 1) + 1/2 * rho * (v1^2 + v2^2)\n",
    "      return SVector(rho, rho_v1, rho_v2, rho_e)\n",
    "    end\n",
    "    \n",
    "    Trixi.reset_timer!(Trixi.timer())\n",
    "    Trixi.init_parameters(\"parameters_density_wave.toml\"; kwargs...,\n",
    "                            cfl=0.05, t_end=10.0,\n",
    "                            initial_conditions=initial_conditions_fluctuations,\n",
    "                            source_terms=source_terms_fluctuations)\n",
    "    mesh, dg, time_parameters, time_integration_function = Trixi.init_simulation()\n",
    "    @. dg.elements.u = u0_baseline + u_fluctuation\n",
    "    Trixi.run_simulation(mesh, dg, time_parameters, time_integration_function)\n",
    "end\n"
   ]
  },
  {
   "cell_type": "code",
   "execution_count": null,
   "metadata": {},
   "outputs": [],
   "source": [
    "data, header = readdlm(joinpath(\"out\", \"analysis.dat\"), header=true)\n",
    "t = data[:, 2]\n",
    "l∞_ϱ   = data[:, 8]\n",
    "l∞_ϱv1 = data[:, 9]\n",
    "l∞_ϱv2 = data[:, 10]\n",
    "l∞_ϱe  = data[:, 11]\n",
    "l∞ = maximum(data[:, 8:11], dims=2) |> vec\n",
    "\n",
    "fig, ax = plt.subplots(1, 1)\n",
    "ax.plot(t, l∞, label=\"numerical experiment\")\n",
    "c1, c2 = fit_error_growth(t, l∞)\n",
    "@show λv_shima_etal.values[idx]\n",
    "@show extrema(imag, λv_shima_etal.vectors[:, idx])\n",
    "@show c2 - λv_shima_etal.values[idx]\n",
    "@show relative_error(c2, λv_shima_etal.values[idx])\n",
    "c1 = 1.0e-3; c2 = real(λv_shima_etal.values[idx])\n",
    "model = @. c1 * exp(c2 * t)\n",
    "# ax.plot(t, model, label=@sprintf(\"\\$%.5f \\\\exp(%.2f t)\\$\", c1, c2))\n",
    "ax.plot(t, model, label=L\"10^{-3} \\exp(\\lambda t)\")\n",
    "ax.set_xlabel(L\"t\")\n",
    "ax.set_ylabel(L\"$l^\\infty$ error\")\n",
    "ax.set_yscale(\"log\")\n",
    "ax.legend()\n",
    "fig.savefig(joinpath(dirname(@__DIR__), \"figures\", \"Euler_fluctuations_shima_etal_twice.pdf\"), bbox_inches=\"tight\")\n",
    "\n",
    "t[end]"
   ]
  },
  {
   "cell_type": "code",
   "execution_count": null,
   "metadata": {},
   "outputs": [],
   "source": []
  },
  {
   "cell_type": "markdown",
   "metadata": {},
   "source": [
    "# Fluctuation simulation: HLL surface flux"
   ]
  },
  {
   "cell_type": "code",
   "execution_count": null,
   "metadata": {},
   "outputs": [],
   "source": [
    "kwargs = (volume_integral_type=\"split_form\", cfl=0.05,\n",
    "            surface_flux=flux_hll, volume_flux=flux_shima_etal)\n",
    "J_shima_etal = Trixi.compute_jacobian_dg(\"parameters_density_wave.toml\"; kwargs...)\n",
    "λv_shima_etal = eigen(J_shima_etal)\n",
    "\n",
    "\n",
    "idx = findlast(λ -> real(λ) > 0 && abs2(imag(λ)) < 1.0e-10, λv_shima_etal.values)\n",
    "\n",
    "@show λv_shima_etal.values[idx]\n",
    "@show extrema(imag, λv_shima_etal.vectors[:, idx])\n",
    "\n",
    "u = real.(λv_shima_etal.vectors[:, idx])\n",
    "u = 1.0e-3 / maximum(abs, u) * u\n",
    "u_fluctuation = reshape(u, 4, 6, 6, 16)\n",
    "\n",
    "mesh, dg, time_parameters, time_integration_function = Trixi.init_simulation()\n",
    "u0_baseline = copy(dg.elements.u)\n",
    "Trixi.rhs!(dg, 0.0)\n",
    "ut_baseline = copy(dg.elements.u_t)"
   ]
  },
  {
   "cell_type": "code",
   "execution_count": null,
   "metadata": {},
   "outputs": [],
   "source": [
    "let ut_baseline=ut_baseline\n",
    "    function source_terms_fluctuations(ut, u, x, element_id, t, n_nodes, equation::CompressibleEulerEquations2D)\n",
    "      for j in 1:n_nodes, i in 1:n_nodes, v in 1:4\n",
    "          ut[v, i, j, element_id] -= ut_baseline[v, i, j, element_id]\n",
    "      end\n",
    "\n",
    "      return nothing\n",
    "    end\n",
    "    \n",
    "    function initial_conditions_fluctuations(x, t, equation::CompressibleEulerEquations2D)\n",
    "      v1 = 0.1\n",
    "      v2 = 0.2\n",
    "#       rho = 1 + 0.98 * sinpi(2 * (x[1] + x[2] - t * (v1 + v2)))\n",
    "      rho = 1 + 0.98 * sinpi(2 * (x[1] + x[2]))\n",
    "      rho_v1 = rho * v1\n",
    "      rho_v2 = rho * v2\n",
    "      p = 20\n",
    "      rho_e = p / (equation.gamma - 1) + 1/2 * rho * (v1^2 + v2^2)\n",
    "      return SVector(rho, rho_v1, rho_v2, rho_e)\n",
    "    end\n",
    "    \n",
    "    Trixi.reset_timer!(Trixi.timer())\n",
    "    Trixi.init_parameters(\"parameters_density_wave.toml\"; kwargs...,\n",
    "                            cfl=0.05, t_end=10.0,\n",
    "                            initial_conditions=initial_conditions_fluctuations,\n",
    "                            source_terms=source_terms_fluctuations)\n",
    "    mesh, dg, time_parameters, time_integration_function = Trixi.init_simulation()\n",
    "    @. dg.elements.u = u0_baseline + u_fluctuation\n",
    "    Trixi.run_simulation(mesh, dg, time_parameters, time_integration_function)\n",
    "end\n"
   ]
  },
  {
   "cell_type": "code",
   "execution_count": null,
   "metadata": {},
   "outputs": [],
   "source": [
    "data, header = readdlm(joinpath(\"out\", \"analysis.dat\"), header=true)\n",
    "t = data[:, 2]\n",
    "l∞_ϱ   = data[:, 8]\n",
    "l∞_ϱv1 = data[:, 9]\n",
    "l∞_ϱv2 = data[:, 10]\n",
    "l∞_ϱe  = data[:, 11]\n",
    "l∞ = maximum(data[:, 8:11], dims=2) |> vec\n",
    "\n",
    "fig, ax = plt.subplots(1, 1)\n",
    "ax.plot(t, l∞, label=\"numerical experiment\")\n",
    "c1, c2 = fit_error_growth(t, l∞)\n",
    "@show λv_shima_etal.values[idx]\n",
    "@show extrema(imag, λv_shima_etal.vectors[:, idx])\n",
    "@show c2 - λv_shima_etal.values[idx]\n",
    "@show relative_error(c2, λv_shima_etal.values[idx])\n",
    "c1 = 1.0e-3; c2 = real(λv_shima_etal.values[idx])\n",
    "model = @. c1 * exp(c2 * t)\n",
    "# ax.plot(t, model, label=@sprintf(\"\\$%.5f \\\\exp(%.2f t)\\$\", c1, c2))\n",
    "ax.plot(t, model, label=L\"10^{-3} \\exp(\\lambda t)\")\n",
    "ax.set_xlabel(L\"t\")\n",
    "ax.set_ylabel(L\"$l^\\infty$ error\")\n",
    "ax.set_yscale(\"log\")\n",
    "ax.legend()\n",
    "fig.savefig(joinpath(dirname(@__DIR__), \"figures\", \"Euler_fluctuations_shima_etal_hll.pdf\"), bbox_inches=\"tight\")\n",
    "\n",
    "t[end]"
   ]
  },
  {
   "cell_type": "code",
   "execution_count": null,
   "metadata": {},
   "outputs": [],
   "source": []
  }
 ],
 "metadata": {
  "kernelspec": {
   "display_name": "Julia 1.5.1",
   "language": "julia",
   "name": "julia-1.5"
  },
  "language_info": {
   "file_extension": ".jl",
   "mimetype": "application/julia",
   "name": "julia",
   "version": "1.5.1"
  }
 },
 "nbformat": 4,
 "nbformat_minor": 4
}
